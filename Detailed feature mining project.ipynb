{
 "cells": [
  {
   "cell_type": "code",
   "execution_count": 1,
   "metadata": {},
   "outputs": [],
   "source": [
    "import pandas as pd\n",
    "import numpy as np\n",
    "import seaborn as sns\n",
    "import matplotlib.pyplot as plt\n",
    "import scipy as sc\n",
    "from sklearn.metrics.pairwise import euclidean_distances\n",
    "from scipy.spatial import distance"
   ]
  },
  {
   "cell_type": "code",
   "execution_count": 4,
   "metadata": {},
   "outputs": [
    {
     "data": {
      "text/html": [
       "<div>\n",
       "<style scoped>\n",
       "    .dataframe tbody tr th:only-of-type {\n",
       "        vertical-align: middle;\n",
       "    }\n",
       "\n",
       "    .dataframe tbody tr th {\n",
       "        vertical-align: top;\n",
       "    }\n",
       "\n",
       "    .dataframe thead th {\n",
       "        text-align: right;\n",
       "    }\n",
       "</style>\n",
       "<table border=\"1\" class=\"dataframe\">\n",
       "  <thead>\n",
       "    <tr style=\"text-align: right;\">\n",
       "      <th></th>\n",
       "      <th>id</th>\n",
       "      <th>Gender</th>\n",
       "      <th>Age</th>\n",
       "      <th>Driving_License</th>\n",
       "      <th>Region_Code</th>\n",
       "      <th>Previously_Insured</th>\n",
       "      <th>Vehicle_Age</th>\n",
       "      <th>Vehicle_Damage</th>\n",
       "      <th>Annual_Premium</th>\n",
       "      <th>Policy_Sales_Channel</th>\n",
       "      <th>Vintage</th>\n",
       "      <th>Response</th>\n",
       "    </tr>\n",
       "  </thead>\n",
       "  <tbody>\n",
       "    <tr>\n",
       "      <th>0</th>\n",
       "      <td>1</td>\n",
       "      <td>Male</td>\n",
       "      <td>44</td>\n",
       "      <td>1</td>\n",
       "      <td>28.0</td>\n",
       "      <td>0</td>\n",
       "      <td>&gt; 2 Years</td>\n",
       "      <td>Yes</td>\n",
       "      <td>40454.0</td>\n",
       "      <td>26.0</td>\n",
       "      <td>217</td>\n",
       "      <td>1</td>\n",
       "    </tr>\n",
       "    <tr>\n",
       "      <th>1</th>\n",
       "      <td>2</td>\n",
       "      <td>Male</td>\n",
       "      <td>76</td>\n",
       "      <td>1</td>\n",
       "      <td>3.0</td>\n",
       "      <td>0</td>\n",
       "      <td>1-2 Year</td>\n",
       "      <td>No</td>\n",
       "      <td>33536.0</td>\n",
       "      <td>26.0</td>\n",
       "      <td>183</td>\n",
       "      <td>0</td>\n",
       "    </tr>\n",
       "    <tr>\n",
       "      <th>2</th>\n",
       "      <td>3</td>\n",
       "      <td>Male</td>\n",
       "      <td>47</td>\n",
       "      <td>1</td>\n",
       "      <td>28.0</td>\n",
       "      <td>0</td>\n",
       "      <td>&gt; 2 Years</td>\n",
       "      <td>Yes</td>\n",
       "      <td>38294.0</td>\n",
       "      <td>26.0</td>\n",
       "      <td>27</td>\n",
       "      <td>1</td>\n",
       "    </tr>\n",
       "    <tr>\n",
       "      <th>3</th>\n",
       "      <td>4</td>\n",
       "      <td>Male</td>\n",
       "      <td>21</td>\n",
       "      <td>1</td>\n",
       "      <td>11.0</td>\n",
       "      <td>1</td>\n",
       "      <td>&lt; 1 Year</td>\n",
       "      <td>No</td>\n",
       "      <td>28619.0</td>\n",
       "      <td>152.0</td>\n",
       "      <td>203</td>\n",
       "      <td>0</td>\n",
       "    </tr>\n",
       "    <tr>\n",
       "      <th>4</th>\n",
       "      <td>5</td>\n",
       "      <td>Female</td>\n",
       "      <td>29</td>\n",
       "      <td>1</td>\n",
       "      <td>41.0</td>\n",
       "      <td>1</td>\n",
       "      <td>&lt; 1 Year</td>\n",
       "      <td>No</td>\n",
       "      <td>27496.0</td>\n",
       "      <td>152.0</td>\n",
       "      <td>39</td>\n",
       "      <td>0</td>\n",
       "    </tr>\n",
       "    <tr>\n",
       "      <th>...</th>\n",
       "      <td>...</td>\n",
       "      <td>...</td>\n",
       "      <td>...</td>\n",
       "      <td>...</td>\n",
       "      <td>...</td>\n",
       "      <td>...</td>\n",
       "      <td>...</td>\n",
       "      <td>...</td>\n",
       "      <td>...</td>\n",
       "      <td>...</td>\n",
       "      <td>...</td>\n",
       "      <td>...</td>\n",
       "    </tr>\n",
       "    <tr>\n",
       "      <th>381104</th>\n",
       "      <td>381105</td>\n",
       "      <td>Male</td>\n",
       "      <td>74</td>\n",
       "      <td>1</td>\n",
       "      <td>26.0</td>\n",
       "      <td>1</td>\n",
       "      <td>1-2 Year</td>\n",
       "      <td>No</td>\n",
       "      <td>30170.0</td>\n",
       "      <td>26.0</td>\n",
       "      <td>88</td>\n",
       "      <td>0</td>\n",
       "    </tr>\n",
       "    <tr>\n",
       "      <th>381105</th>\n",
       "      <td>381106</td>\n",
       "      <td>Male</td>\n",
       "      <td>30</td>\n",
       "      <td>1</td>\n",
       "      <td>37.0</td>\n",
       "      <td>1</td>\n",
       "      <td>&lt; 1 Year</td>\n",
       "      <td>No</td>\n",
       "      <td>40016.0</td>\n",
       "      <td>152.0</td>\n",
       "      <td>131</td>\n",
       "      <td>0</td>\n",
       "    </tr>\n",
       "    <tr>\n",
       "      <th>381106</th>\n",
       "      <td>381107</td>\n",
       "      <td>Male</td>\n",
       "      <td>21</td>\n",
       "      <td>1</td>\n",
       "      <td>30.0</td>\n",
       "      <td>1</td>\n",
       "      <td>&lt; 1 Year</td>\n",
       "      <td>No</td>\n",
       "      <td>35118.0</td>\n",
       "      <td>160.0</td>\n",
       "      <td>161</td>\n",
       "      <td>0</td>\n",
       "    </tr>\n",
       "    <tr>\n",
       "      <th>381107</th>\n",
       "      <td>381108</td>\n",
       "      <td>Female</td>\n",
       "      <td>68</td>\n",
       "      <td>1</td>\n",
       "      <td>14.0</td>\n",
       "      <td>0</td>\n",
       "      <td>&gt; 2 Years</td>\n",
       "      <td>Yes</td>\n",
       "      <td>44617.0</td>\n",
       "      <td>124.0</td>\n",
       "      <td>74</td>\n",
       "      <td>0</td>\n",
       "    </tr>\n",
       "    <tr>\n",
       "      <th>381108</th>\n",
       "      <td>381109</td>\n",
       "      <td>Male</td>\n",
       "      <td>46</td>\n",
       "      <td>1</td>\n",
       "      <td>29.0</td>\n",
       "      <td>0</td>\n",
       "      <td>1-2 Year</td>\n",
       "      <td>No</td>\n",
       "      <td>41777.0</td>\n",
       "      <td>26.0</td>\n",
       "      <td>237</td>\n",
       "      <td>0</td>\n",
       "    </tr>\n",
       "  </tbody>\n",
       "</table>\n",
       "<p>381109 rows × 12 columns</p>\n",
       "</div>"
      ],
      "text/plain": [
       "            id  Gender  Age  Driving_License  Region_Code  Previously_Insured  \\\n",
       "0            1    Male   44                1         28.0                   0   \n",
       "1            2    Male   76                1          3.0                   0   \n",
       "2            3    Male   47                1         28.0                   0   \n",
       "3            4    Male   21                1         11.0                   1   \n",
       "4            5  Female   29                1         41.0                   1   \n",
       "...        ...     ...  ...              ...          ...                 ...   \n",
       "381104  381105    Male   74                1         26.0                   1   \n",
       "381105  381106    Male   30                1         37.0                   1   \n",
       "381106  381107    Male   21                1         30.0                   1   \n",
       "381107  381108  Female   68                1         14.0                   0   \n",
       "381108  381109    Male   46                1         29.0                   0   \n",
       "\n",
       "       Vehicle_Age Vehicle_Damage  Annual_Premium  Policy_Sales_Channel  \\\n",
       "0        > 2 Years            Yes         40454.0                  26.0   \n",
       "1         1-2 Year             No         33536.0                  26.0   \n",
       "2        > 2 Years            Yes         38294.0                  26.0   \n",
       "3         < 1 Year             No         28619.0                 152.0   \n",
       "4         < 1 Year             No         27496.0                 152.0   \n",
       "...            ...            ...             ...                   ...   \n",
       "381104    1-2 Year             No         30170.0                  26.0   \n",
       "381105    < 1 Year             No         40016.0                 152.0   \n",
       "381106    < 1 Year             No         35118.0                 160.0   \n",
       "381107   > 2 Years            Yes         44617.0                 124.0   \n",
       "381108    1-2 Year             No         41777.0                  26.0   \n",
       "\n",
       "        Vintage  Response  \n",
       "0           217         1  \n",
       "1           183         0  \n",
       "2            27         1  \n",
       "3           203         0  \n",
       "4            39         0  \n",
       "...         ...       ...  \n",
       "381104       88         0  \n",
       "381105      131         0  \n",
       "381106      161         0  \n",
       "381107       74         0  \n",
       "381108      237         0  \n",
       "\n",
       "[381109 rows x 12 columns]"
      ]
     },
     "execution_count": 4,
     "metadata": {},
     "output_type": "execute_result"
    }
   ],
   "source": [
    "data"
   ]
  },
  {
   "cell_type": "code",
   "execution_count": 375,
   "metadata": {},
   "outputs": [
    {
     "name": "stdout",
     "output_type": "stream",
     "text": [
      "id                      0\n",
      "Gender                  0\n",
      "Age                     0\n",
      "Driving_License         0\n",
      "Region_Code             0\n",
      "Previously_Insured      0\n",
      "Vehicle_Age             0\n",
      "Vehicle_Damage          0\n",
      "Annual_Premium          0\n",
      "Policy_Sales_Channel    0\n",
      "Vintage                 0\n",
      "Response                0\n",
      "dtype: int64\n",
      "Non uniqe values:\n",
      "id                      381109\n",
      "Gender                       2\n",
      "Age                         66\n",
      "Driving_License              2\n",
      "Region_Code                 53\n",
      "Previously_Insured           2\n",
      "Vehicle_Age                  3\n",
      "Vehicle_Damage               2\n",
      "Annual_Premium           48838\n",
      "Policy_Sales_Channel       155\n",
      "Vintage                    290\n",
      "Response                     2\n",
      "dtype: int64\n"
     ]
    },
    {
     "name": "stderr",
     "output_type": "stream",
     "text": [
      "<ipython-input-375-b8c0807b6328>:6: UserWarning: Pandas doesn't allow columns to be created via a new attribute name - see https://pandas.pydata.org/pandas-docs/stable/indexing.html#attribute-access\n",
      "  data.columnss=data[['Age','Annual_Premium','Vintage']]\n"
     ]
    }
   ],
   "source": [
    "# choose columns for detect outliers and clip operation\n",
    "\n",
    "print(data.isnull().sum())\n",
    "print('Non uniqe values:')\n",
    "print(data.nunique())\n",
    "data.columnss=data[['Age','Annual_Premium','Vintage']]"
   ]
  },
  {
   "cell_type": "code",
   "execution_count": 376,
   "metadata": {},
   "outputs": [
    {
     "name": "stdout",
     "output_type": "stream",
     "text": [
      "Column: Age iqr: 24.0 lower bound: -11.0 upper bound: 85.0 outlier sayı: 0 clip sonrası outlier sayı: 0\n",
      "Column: Annual_Premium iqr: 14995.0 lower bound: 1912.5 upper bound: 61892.5 outlier sayı: 10320 clip sonrası outlier sayı: 0\n",
      "Column: Vintage iqr: 145.0 lower bound: -135.5 upper bound: 444.5 outlier sayı: 0 clip sonrası outlier sayı: 0\n"
     ]
    }
   ],
   "source": [
    "#detect outliers and clip operation\n",
    "\n",
    "x=[]\n",
    "y=[]\n",
    "\n",
    "for columnname in data.columns:\n",
    "    \n",
    "    if data.columns != \n",
    "    \n",
    "    q3=data[columnname].quantile(0.75)\n",
    "    q1=data[columnname].quantile(0.25)\n",
    "    iqr=q3-q1\n",
    "    lower_bound=q1-(1.5*iqr)\n",
    "    upper_bound=q3+(1.5*iqr)\n",
    "    outlier_count=data[data[columnname]<lower_bound].shape[0]+data[data[columnname]>upper_bound].shape[0]\n",
    "    data[columnname].clip(lower_bound,upper_bound,inplace=True)\n",
    "    outlier_count2=data[data[columnname]<lower_bound].shape[0]+data[data[columnname]>upper_bound].shape[0]\n",
    "\n",
    "    print('Column:'+' '+columnname.title(),'iqr:'+' '+str(iqr), 'lower bound:'+' '+str(lower_bound),\n",
    "    'upper bound:'+' '+str(upper_bound),'outlier sayı:' + ' '+str(outlier_count),'clip sonrası outlier sayı:'+' '+\n",
    "    str(outlier_count2))\n",
    "\n",
    "    xx=['Column:','iqr:','lower bound:','upper bound:','outlier sayı:','clip sonrası outlier sayı :']\n",
    "    yy=[columnname.title(),str(iqr),str(lower_bound),str(upper_bound),str(outlier_count),str(outlier_count2)]\n",
    "\n",
    "    for i in range(6):\n",
    "\n",
    "        x.append(xx[i])\n",
    "        y.append(yy[i])"
   ]
  },
  {
   "cell_type": "code",
   "execution_count": 377,
   "metadata": {},
   "outputs": [
    {
     "data": {
      "text/html": [
       "<div>\n",
       "<style scoped>\n",
       "    .dataframe tbody tr th:only-of-type {\n",
       "        vertical-align: middle;\n",
       "    }\n",
       "\n",
       "    .dataframe tbody tr th {\n",
       "        vertical-align: top;\n",
       "    }\n",
       "\n",
       "    .dataframe thead th {\n",
       "        text-align: right;\n",
       "    }\n",
       "</style>\n",
       "<table border=\"1\" class=\"dataframe\">\n",
       "  <thead>\n",
       "    <tr style=\"text-align: right;\">\n",
       "      <th></th>\n",
       "      <th>col</th>\n",
       "      <th>iqr</th>\n",
       "      <th>lower_bound</th>\n",
       "      <th>upper_bound</th>\n",
       "      <th>outlier sayı</th>\n",
       "      <th>clip sonrası outlier sayı</th>\n",
       "    </tr>\n",
       "  </thead>\n",
       "  <tbody>\n",
       "    <tr>\n",
       "      <th>0</th>\n",
       "      <td>Age</td>\n",
       "      <td>24.0</td>\n",
       "      <td>-11.0</td>\n",
       "      <td>85.0</td>\n",
       "      <td>0</td>\n",
       "      <td>0</td>\n",
       "    </tr>\n",
       "    <tr>\n",
       "      <th>1</th>\n",
       "      <td>Annual_Premium</td>\n",
       "      <td>14995.0</td>\n",
       "      <td>1912.5</td>\n",
       "      <td>61892.5</td>\n",
       "      <td>10320</td>\n",
       "      <td>0</td>\n",
       "    </tr>\n",
       "    <tr>\n",
       "      <th>2</th>\n",
       "      <td>Vintage</td>\n",
       "      <td>145.0</td>\n",
       "      <td>-135.5</td>\n",
       "      <td>444.5</td>\n",
       "      <td>0</td>\n",
       "      <td>0</td>\n",
       "    </tr>\n",
       "  </tbody>\n",
       "</table>\n",
       "</div>"
      ],
      "text/plain": [
       "              col      iqr lower_bound upper_bound outlier sayı  \\\n",
       "0             Age     24.0       -11.0        85.0            0   \n",
       "1  Annual_Premium  14995.0      1912.5     61892.5        10320   \n",
       "2         Vintage    145.0      -135.5       444.5            0   \n",
       "\n",
       "  clip sonrası outlier sayı  \n",
       "0                         0  \n",
       "1                         0  \n",
       "2                         0  "
      ]
     },
     "execution_count": 377,
     "metadata": {},
     "output_type": "execute_result"
    }
   ],
   "source": [
    "#to make a dataframe for information about outliers \n",
    "\n",
    "y=np.array(y).reshape(3,6)\n",
    "\n",
    "df = pd.DataFrame(y,index=[0,1,2],columns=['col','iqr','lower_bound','upper_bound','outlier sayı','clip sonrası outlier sayı'])\n",
    "df"
   ]
  },
  {
   "cell_type": "code",
   "execution_count": 378,
   "metadata": {},
   "outputs": [],
   "source": [
    "#split dataset (Response=1 and Response=0)\n",
    "\n",
    "datares1=data.query('Response==1')\n",
    "datares0=data.query('Response==0')"
   ]
  },
  {
   "cell_type": "code",
   "execution_count": 379,
   "metadata": {},
   "outputs": [],
   "source": [
    "# choose columns for average calculate\n",
    "\n",
    "datares1avg=datares1[['Age','Driving_License','Previously_Insured','Vehicle_Age','Vehicle_Damage','Annual_Premium','Vintage']]\n",
    "\n",
    "datares0avg=datares0[['Age','Driving_License','Previously_Insured','Vehicle_Age','Vehicle_Damage','Annual_Premium','Vintage']]\n",
    "\n"
   ]
  },
  {
   "cell_type": "code",
   "execution_count": 380,
   "metadata": {},
   "outputs": [
    {
     "name": "stderr",
     "output_type": "stream",
     "text": [
      "c:\\Users\\qw\\anaconda3\\lib\\site-packages\\pandas\\core\\indexing.py:1676: SettingWithCopyWarning: \n",
      "A value is trying to be set on a copy of a slice from a DataFrame.\n",
      "Try using .loc[row_indexer,col_indexer] = value instead\n",
      "\n",
      "See the caveats in the documentation: https://pandas.pydata.org/pandas-docs/stable/user_guide/indexing.html#returning-a-view-versus-a-copy\n",
      "  self._setitem_single_column(ilocs[0], value, pi)\n",
      "<ipython-input-380-46053087fcd3>:8: SettingWithCopyWarning: \n",
      "A value is trying to be set on a copy of a slice from a DataFrame.\n",
      "Try using .loc[row_indexer,col_indexer] = value instead\n",
      "\n",
      "See the caveats in the documentation: https://pandas.pydata.org/pandas-docs/stable/user_guide/indexing.html#returning-a-view-versus-a-copy\n",
      "  datares1avg['Vehicle_Age'] = pd.to_numeric(datares1avg['Vehicle_Age'])\n",
      "<ipython-input-380-46053087fcd3>:9: SettingWithCopyWarning: \n",
      "A value is trying to be set on a copy of a slice from a DataFrame.\n",
      "Try using .loc[row_indexer,col_indexer] = value instead\n",
      "\n",
      "See the caveats in the documentation: https://pandas.pydata.org/pandas-docs/stable/user_guide/indexing.html#returning-a-view-versus-a-copy\n",
      "  datares1avg['Vehicle_Damage'] = pd.to_numeric(datares1avg['Vehicle_Damage'])\n",
      "<ipython-input-380-46053087fcd3>:16: SettingWithCopyWarning: \n",
      "A value is trying to be set on a copy of a slice from a DataFrame.\n",
      "Try using .loc[row_indexer,col_indexer] = value instead\n",
      "\n",
      "See the caveats in the documentation: https://pandas.pydata.org/pandas-docs/stable/user_guide/indexing.html#returning-a-view-versus-a-copy\n",
      "  datares0avg['Vehicle_Age'] = pd.to_numeric(datares0avg['Vehicle_Age'])\n",
      "<ipython-input-380-46053087fcd3>:17: SettingWithCopyWarning: \n",
      "A value is trying to be set on a copy of a slice from a DataFrame.\n",
      "Try using .loc[row_indexer,col_indexer] = value instead\n",
      "\n",
      "See the caveats in the documentation: https://pandas.pydata.org/pandas-docs/stable/user_guide/indexing.html#returning-a-view-versus-a-copy\n",
      "  datares0avg['Vehicle_Damage'] = pd.to_numeric(datares0avg['Vehicle_Damage'])\n"
     ]
    }
   ],
   "source": [
    "# replace and convert string to numeric\n",
    "\n",
    "#into Response=1 \n",
    "\n",
    "datares1avg.replace({'Vehicle_Age' : { '< 1 Year' : '0', '1-2 Year' : '1','> 2 Years' : '2'}}, inplace=True)\n",
    "datares1avg.replace({'Vehicle_Damage' : { 'Yes' : '1', 'No' : '0'}},inplace=True)\n",
    "\n",
    "datares1avg['Vehicle_Age'] = pd.to_numeric(datares1avg['Vehicle_Age'])\n",
    "datares1avg['Vehicle_Damage'] = pd.to_numeric(datares1avg['Vehicle_Damage'])\n",
    "\n",
    "#into Response=10\n",
    "\n",
    "datares0avg.replace({'Vehicle_Age' : { '< 1 Year' : '0', '1-2 Year' : '1','> 2 Years' : '2'}}, inplace=True)\n",
    "datares0avg.replace({'Vehicle_Damage' : { 'Yes' : '1', 'No' : '0'}},inplace=True)\n",
    "\n",
    "datares0avg['Vehicle_Age'] = pd.to_numeric(datares0avg['Vehicle_Age'])\n",
    "datares0avg['Vehicle_Damage'] = pd.to_numeric(datares0avg['Vehicle_Damage'])\n"
   ]
  },
  {
   "cell_type": "code",
   "execution_count": 381,
   "metadata": {},
   "outputs": [
    {
     "data": {
      "text/html": [
       "<div>\n",
       "<style scoped>\n",
       "    .dataframe tbody tr th:only-of-type {\n",
       "        vertical-align: middle;\n",
       "    }\n",
       "\n",
       "    .dataframe tbody tr th {\n",
       "        vertical-align: top;\n",
       "    }\n",
       "\n",
       "    .dataframe thead th {\n",
       "        text-align: right;\n",
       "    }\n",
       "</style>\n",
       "<table border=\"1\" class=\"dataframe\">\n",
       "  <thead>\n",
       "    <tr style=\"text-align: right;\">\n",
       "      <th></th>\n",
       "      <th>Age</th>\n",
       "      <th>Driving_License</th>\n",
       "      <th>Previously_Insured</th>\n",
       "      <th>Vehicle_Age</th>\n",
       "      <th>Vehicle_Damage</th>\n",
       "      <th>Annual_Premium</th>\n",
       "      <th>Vintage</th>\n",
       "    </tr>\n",
       "  </thead>\n",
       "  <tbody>\n",
       "    <tr>\n",
       "      <th>Response_1</th>\n",
       "      <td>43.435560</td>\n",
       "      <td>0.999122</td>\n",
       "      <td>0.003383</td>\n",
       "      <td>0.946478</td>\n",
       "      <td>0.978977</td>\n",
       "      <td>31061.411807</td>\n",
       "      <td>154.112246</td>\n",
       "    </tr>\n",
       "    <tr>\n",
       "      <th>Response_0</th>\n",
       "      <td>38.178227</td>\n",
       "      <td>0.997694</td>\n",
       "      <td>0.521742</td>\n",
       "      <td>0.562561</td>\n",
       "      <td>0.438653</td>\n",
       "      <td>30020.604513</td>\n",
       "      <td>154.380243</td>\n",
       "    </tr>\n",
       "  </tbody>\n",
       "</table>\n",
       "</div>"
      ],
      "text/plain": [
       "                  Age  Driving_License  Previously_Insured  Vehicle_Age  \\\n",
       "Response_1  43.435560         0.999122            0.003383     0.946478   \n",
       "Response_0  38.178227         0.997694            0.521742     0.562561   \n",
       "\n",
       "            Vehicle_Damage  Annual_Premium     Vintage  \n",
       "Response_1        0.978977    31061.411807  154.112246  \n",
       "Response_0        0.438653    30020.604513  154.380243  "
      ]
     },
     "execution_count": 381,
     "metadata": {},
     "output_type": "execute_result"
    }
   ],
   "source": [
    "# averages of datasets (Response_1, Response_0)\n",
    "\n",
    "mean_x=[]\n",
    "mean_y=[]\n",
    "\n",
    "mean_x.append(datares1avg.mean())\n",
    "mean_y.append(datares0avg.mean())\n",
    "\n",
    "df_mean_x=pd.DataFrame(mean_x)\n",
    "\n",
    "df_means = df_mean_x.append(mean_y)\n",
    "\n",
    "indexx = pd.Index(['Response_1', 'Response_0'])\n",
    "\n",
    "df_means = df_means.set_index(indexx)\n",
    "df_means"
   ]
  },
  {
   "cell_type": "code",
   "execution_count": 382,
   "metadata": {},
   "outputs": [
    {
     "data": {
      "text/html": [
       "<div>\n",
       "<style scoped>\n",
       "    .dataframe tbody tr th:only-of-type {\n",
       "        vertical-align: middle;\n",
       "    }\n",
       "\n",
       "    .dataframe tbody tr th {\n",
       "        vertical-align: top;\n",
       "    }\n",
       "\n",
       "    .dataframe thead th {\n",
       "        text-align: right;\n",
       "    }\n",
       "</style>\n",
       "<table border=\"1\" class=\"dataframe\">\n",
       "  <thead>\n",
       "    <tr style=\"text-align: right;\">\n",
       "      <th></th>\n",
       "      <th>Age</th>\n",
       "      <th>Driving_License</th>\n",
       "      <th>Previously_Insured</th>\n",
       "      <th>Vehicle_Age</th>\n",
       "      <th>Vehicle_Damage</th>\n",
       "      <th>Annual_Premium</th>\n",
       "      <th>Vintage</th>\n",
       "    </tr>\n",
       "  </thead>\n",
       "  <tbody>\n",
       "    <tr>\n",
       "      <th>Response_1</th>\n",
       "      <td>12.168924</td>\n",
       "      <td>0.029614</td>\n",
       "      <td>0.058062</td>\n",
       "      <td>0.501986</td>\n",
       "      <td>0.143464</td>\n",
       "      <td>16332.816139</td>\n",
       "      <td>83.738574</td>\n",
       "    </tr>\n",
       "    <tr>\n",
       "      <th>Response_0</th>\n",
       "      <td>15.816052</td>\n",
       "      <td>0.047962</td>\n",
       "      <td>0.499528</td>\n",
       "      <td>0.560090</td>\n",
       "      <td>0.496223</td>\n",
       "      <td>15348.669662</td>\n",
       "      <td>83.661975</td>\n",
       "    </tr>\n",
       "  </tbody>\n",
       "</table>\n",
       "</div>"
      ],
      "text/plain": [
       "                  Age  Driving_License  Previously_Insured  Vehicle_Age  \\\n",
       "Response_1  12.168924         0.029614            0.058062     0.501986   \n",
       "Response_0  15.816052         0.047962            0.499528     0.560090   \n",
       "\n",
       "            Vehicle_Damage  Annual_Premium    Vintage  \n",
       "Response_1        0.143464    16332.816139  83.738574  \n",
       "Response_0        0.496223    15348.669662  83.661975  "
      ]
     },
     "execution_count": 382,
     "metadata": {},
     "output_type": "execute_result"
    }
   ],
   "source": [
    "# std of datasets (Response_1, Response_0)\n",
    "\n",
    "std_x=[]\n",
    "std_y=[]\n",
    "\n",
    "std_x.append(datares1avg.std())\n",
    "std_y.append(datares0avg.std())\n",
    "\n",
    "df_std_x=pd.DataFrame(std_x)\n",
    "\n",
    "df_std = df_std_x.append(std_y)\n",
    "\n",
    "indexx = pd.Index(['Response_1', 'Response_0'])\n",
    "df_std = df_std.set_index(indexx)\n",
    "df_std"
   ]
  },
  {
   "cell_type": "code",
   "execution_count": 383,
   "metadata": {},
   "outputs": [],
   "source": [
    "# choose columns for skewness, kurtosis and histogram\n",
    "\n",
    "#response=1\n",
    "datares1dist=datares1avg[['Age','Annual_Premium','Vintage']]\n",
    "\n",
    "# response=0\n",
    "datares0dist=datares0avg[['Age','Annual_Premium','Vintage']]\n"
   ]
  },
  {
   "cell_type": "code",
   "execution_count": 384,
   "metadata": {},
   "outputs": [
    {
     "data": {
      "text/html": [
       "<div>\n",
       "<style scoped>\n",
       "    .dataframe tbody tr th:only-of-type {\n",
       "        vertical-align: middle;\n",
       "    }\n",
       "\n",
       "    .dataframe tbody tr th {\n",
       "        vertical-align: top;\n",
       "    }\n",
       "\n",
       "    .dataframe thead th {\n",
       "        text-align: right;\n",
       "    }\n",
       "</style>\n",
       "<table border=\"1\" class=\"dataframe\">\n",
       "  <thead>\n",
       "    <tr style=\"text-align: right;\">\n",
       "      <th></th>\n",
       "      <th>Age</th>\n",
       "      <th>Annual_Premium</th>\n",
       "      <th>Vintage</th>\n",
       "    </tr>\n",
       "  </thead>\n",
       "  <tbody>\n",
       "    <tr>\n",
       "      <th>Response_1</th>\n",
       "      <td>-0.096421</td>\n",
       "      <td>-0.440762</td>\n",
       "      <td>-1.198050</td>\n",
       "    </tr>\n",
       "    <tr>\n",
       "      <th>Response_0</th>\n",
       "      <td>-0.530325</td>\n",
       "      <td>-0.238017</td>\n",
       "      <td>-1.201065</td>\n",
       "    </tr>\n",
       "  </tbody>\n",
       "</table>\n",
       "</div>"
      ],
      "text/plain": [
       "                 Age  Annual_Premium   Vintage\n",
       "Response_1 -0.096421       -0.440762 -1.198050\n",
       "Response_0 -0.530325       -0.238017 -1.201065"
      ]
     },
     "execution_count": 384,
     "metadata": {},
     "output_type": "execute_result"
    }
   ],
   "source": [
    "# Kurtosis of dataset columns (Response_1, Response_0)\n",
    "\n",
    "kurt_x=[]\n",
    "kurt_y=[]\n",
    "\n",
    "kurt_x.append(sc.stats.kurtosis(datares1dist))\n",
    "kurt_y.append(sc.stats.kurtosis(datares0dist))\n",
    "\n",
    "df_kurt_x=pd.DataFrame(kurt_x)\n",
    "\n",
    "df_kurt = df_kurt_x.append(kurt_y)\n",
    "\n",
    "df_kurt.columns=['Age','Annual_Premium','Vintage']\n",
    "\n",
    "indexx = pd.Index(['Response_1', 'Response_0'])\n",
    "df_kurt = df_kurt.set_index(indexx)\n",
    "df_kurt\n"
   ]
  },
  {
   "cell_type": "code",
   "execution_count": 385,
   "metadata": {},
   "outputs": [
    {
     "data": {
      "text/html": [
       "<div>\n",
       "<style scoped>\n",
       "    .dataframe tbody tr th:only-of-type {\n",
       "        vertical-align: middle;\n",
       "    }\n",
       "\n",
       "    .dataframe tbody tr th {\n",
       "        vertical-align: top;\n",
       "    }\n",
       "\n",
       "    .dataframe thead th {\n",
       "        text-align: right;\n",
       "    }\n",
       "</style>\n",
       "<table border=\"1\" class=\"dataframe\">\n",
       "  <thead>\n",
       "    <tr style=\"text-align: right;\">\n",
       "      <th></th>\n",
       "      <th>Age</th>\n",
       "      <th>Annual_Premium</th>\n",
       "      <th>Vintage</th>\n",
       "    </tr>\n",
       "  </thead>\n",
       "  <tbody>\n",
       "    <tr>\n",
       "      <th>Response_1</th>\n",
       "      <td>0.322440</td>\n",
       "      <td>-0.402862</td>\n",
       "      <td>0.001003</td>\n",
       "    </tr>\n",
       "    <tr>\n",
       "      <th>Response_0</th>\n",
       "      <td>0.749022</td>\n",
       "      <td>-0.350062</td>\n",
       "      <td>0.003315</td>\n",
       "    </tr>\n",
       "  </tbody>\n",
       "</table>\n",
       "</div>"
      ],
      "text/plain": [
       "                 Age  Annual_Premium   Vintage\n",
       "Response_1  0.322440       -0.402862  0.001003\n",
       "Response_0  0.749022       -0.350062  0.003315"
      ]
     },
     "execution_count": 385,
     "metadata": {},
     "output_type": "execute_result"
    }
   ],
   "source": [
    "# Skewness of dataset columns (Response_1, Response_0)\n",
    "\n",
    "skew_x=[]\n",
    "skew_y=[]\n",
    "\n",
    "skew_x.append(sc.stats.skew(datares1dist))\n",
    "skew_y.append(sc.stats.skew(datares0dist))\n",
    "\n",
    "df_kurt_x=pd.DataFrame(skew_x)\n",
    "\n",
    "df_skew = df_skew_x.append(skew_y)\n",
    "\n",
    "df_skew.columns=['Age','Annual_Premium','Vintage']\n",
    "\n",
    "indexx = pd.Index(['Response_1', 'Response_0'])\n",
    "df_skew = df_skew.set_index(indexx)\n",
    "df_skew"
   ]
  },
  {
   "cell_type": "code",
   "execution_count": 386,
   "metadata": {},
   "outputs": [
    {
     "name": "stdout",
     "output_type": "stream",
     "text": [
      "Age\n"
     ]
    },
    {
     "data": {
      "image/png": "[encoded data removed]",
      "text/plain": [
       "<Figure size 432x288 with 1 Axes>"
      ]
     },
     "metadata": {
      "needs_background": "light"
     },
     "output_type": "display_data"
    },
    {
     "name": "stdout",
     "output_type": "stream",
     "text": [
      "Annual_Premium\n"
     ]
    },
    {
     "data": {
      "image/png": "[encoded data removed]",
      "text/plain": [
       "<Figure size 432x288 with 1 Axes>"
      ]
     },
     "metadata": {
      "needs_background": "light"
     },
     "output_type": "display_data"
    },
    {
     "name": "stdout",
     "output_type": "stream",
     "text": [
      "Vintage\n"
     ]
    },
    {
     "data": {
      "image/png": "[encoded data removed]",
      "text/plain": [
       "<Figure size 432x288 with 1 Axes>"
      ]
     },
     "metadata": {
      "needs_background": "light"
     },
     "output_type": "display_data"
    }
   ],
   "source": [
    "# columns histograms for response=1\n",
    "\n",
    "for c in datares1dist:\n",
    "\tif str(datares1dist.dtypes[c]) in ['int64', 'float64']:\n",
    "\t\tprint(c)\n",
    "\t\tdatares1dist[c].hist()\n",
    "\t\tplt.show()"
   ]
  },
  {
   "cell_type": "code",
   "execution_count": 387,
   "metadata": {},
   "outputs": [
    {
     "name": "stdout",
     "output_type": "stream",
     "text": [
      "Age\n"
     ]
    },
    {
     "data": {
      "image/png": "[encoded data removed]",
      "text/plain": [
       "<Figure size 432x288 with 1 Axes>"
      ]
     },
     "metadata": {
      "needs_background": "light"
     },
     "output_type": "display_data"
    },
    {
     "name": "stdout",
     "output_type": "stream",
     "text": [
      "Annual_Premium\n"
     ]
    },
    {
     "data": {
      "image/png": "[encoded data removed]",
      "text/plain": [
       "<Figure size 432x288 with 1 Axes>"
      ]
     },
     "metadata": {
      "needs_background": "light"
     },
     "output_type": "display_data"
    },
    {
     "name": "stdout",
     "output_type": "stream",
     "text": [
      "Vintage\n"
     ]
    },
    {
     "data": {
      "image/png": "[encoded data removed]",
      "text/plain": [
       "<Figure size 432x288 with 1 Axes>"
      ]
     },
     "metadata": {
      "needs_background": "light"
     },
     "output_type": "display_data"
    }
   ],
   "source": [
    "# columns histograms for response=0\n",
    "\n",
    "for c in datares0dist:\n",
    "\tif str(datares0dist.dtypes[c]) in ['int64', 'float64']:\n",
    "\t\tprint(c)\n",
    "\t\tdatares0dist[c].hist()\n",
    "\t\tplt.show()"
   ]
  },
  {
   "cell_type": "code",
   "execution_count": 388,
   "metadata": {},
   "outputs": [],
   "source": [
    "# choose random row (response=1) for find similarity with mean of data (response=0)\n",
    "\n",
    "sim_row_res1=datares1avg.iloc[np.random.randint(len(datares1avg)),:]\n",
    "\n",
    "# mean of columns in the dataset (response=0)\n",
    "\n",
    "sim_mean_row_res0=df_means.loc['Response_0']"
   ]
  },
  {
   "cell_type": "code",
   "execution_count": 389,
   "metadata": {},
   "outputs": [
    {
     "data": {
      "text/plain": [
       "Age                     41.0\n",
       "Driving_License          1.0\n",
       "Previously_Insured       0.0\n",
       "Vehicle_Age              2.0\n",
       "Vehicle_Damage           1.0\n",
       "Annual_Premium        2630.0\n",
       "Vintage                209.0\n",
       "Name: 117718, dtype: float64"
      ]
     },
     "execution_count": 389,
     "metadata": {},
     "output_type": "execute_result"
    }
   ],
   "source": [
    "sim_row_res1"
   ]
  },
  {
   "cell_type": "code",
   "execution_count": 390,
   "metadata": {},
   "outputs": [
    {
     "data": {
      "text/plain": [
       "Age                      38.178227\n",
       "Driving_License           0.997694\n",
       "Previously_Insured        0.521742\n",
       "Vehicle_Age               0.562561\n",
       "Vehicle_Damage            0.438653\n",
       "Annual_Premium        30020.604513\n",
       "Vintage                 154.380243\n",
       "Name: Response_0, dtype: float64"
      ]
     },
     "execution_count": 390,
     "metadata": {},
     "output_type": "execute_result"
    }
   ],
   "source": [
    "sim_mean_row_res0"
   ]
  },
  {
   "cell_type": "code",
   "execution_count": 391,
   "metadata": {},
   "outputs": [
    {
     "name": "stdout",
     "output_type": "stream",
     "text": [
      "0.0028503307006748635\n",
      "27390.659165386292\n"
     ]
    }
   ],
   "source": [
    "# distances random row of data(response=1) with mean of data(response=0)\n",
    "\n",
    "print(distance.cosine(sim_row_res1, sim_mean_row_res0))\n",
    "print(distance.euclidean(sim_row_res1, sim_mean_row_res0))"
   ]
  },
  {
   "cell_type": "code",
   "execution_count": 392,
   "metadata": {},
   "outputs": [],
   "source": [
    "# choose random row (response=0) for find similarity with mean of data (response=1)\n",
    "\n",
    "sim_row_res0=datares0avg.iloc[np.random.randint(len(datares0avg)),:]\n",
    "\n",
    "# mean of columns in the dataset (response=1)\n",
    "\n",
    "sim_mean_row_res1=df_means.loc['Response_1']"
   ]
  },
  {
   "cell_type": "code",
   "execution_count": 393,
   "metadata": {},
   "outputs": [
    {
     "name": "stdout",
     "output_type": "stream",
     "text": [
      "2.439616469174233e-06\n",
      "5663.828739763388\n"
     ]
    }
   ],
   "source": [
    "# distances random row of data(response=0) and mean data(response=1)\n",
    "\n",
    "print(distance.cosine(sim_row_res0, sim_mean_row_res1))\n",
    "print(distance.euclidean(sim_row_res0, sim_mean_row_res1))"
   ]
  },
  {
   "cell_type": "code",
   "execution_count": null,
   "metadata": {},
   "outputs": [],
   "source": []
  },
  {
   "cell_type": "code",
   "execution_count": null,
   "metadata": {},
   "outputs": [],
   "source": []
  },
  {
   "cell_type": "code",
   "execution_count": null,
   "metadata": {},
   "outputs": [],
   "source": []
  },
  {
   "cell_type": "code",
   "execution_count": null,
   "metadata": {},
   "outputs": [],
   "source": []
  },
  {
   "cell_type": "code",
   "execution_count": null,
   "metadata": {},
   "outputs": [],
   "source": []
  }
 ],
 "metadata": {
  "kernelspec": {
   "display_name": "base",
   "language": "python",
   "name": "python3"
  },
  "language_info": {
   "codemirror_mode": {
    "name": "ipython",
    "version": 3
   },
   "file_extension": ".py",
   "mimetype": "text/x-python",
   "name": "python",
   "nbconvert_exporter": "python",
   "pygments_lexer": "ipython3",
   "version": "3.8.8"
  },
  "orig_nbformat": 4,
  "vscode": {
   "interpreter": {
    "hash": "cb2587bb7b93b2ab6f5b81e13d7cbd9c975b4db143a315a6f67449e65b49c133"
   }
  }
 },
 "nbformat": 4,
 "nbformat_minor": 2
}
